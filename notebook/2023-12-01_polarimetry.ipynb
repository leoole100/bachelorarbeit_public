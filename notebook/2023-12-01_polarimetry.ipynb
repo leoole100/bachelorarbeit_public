{
 "cells": [
  {
   "cell_type": "code",
   "execution_count": 15,
   "metadata": {
    "notebookRunGroups": {
     "groupValue": "1"
    }
   },
   "outputs": [
    {
     "data": {
      "application/javascript": "(function(root) {\n  function now() {\n    return new Date();\n  }\n\n  var force = true;\n  var py_version = '3.3.4'.replace('rc', '-rc.').replace('.dev', '-dev.');\n  var reloading = false;\n  var Bokeh = root.Bokeh;\n\n  if (typeof (root._bokeh_timeout) === \"undefined\" || force) {\n    root._bokeh_timeout = Date.now() + 5000;\n    root._bokeh_failed_load = false;\n  }\n\n  function run_callbacks() {\n    try {\n      root._bokeh_onload_callbacks.forEach(function(callback) {\n        if (callback != null)\n          callback();\n      });\n    } finally {\n      delete root._bokeh_onload_callbacks;\n    }\n    console.debug(\"Bokeh: all callbacks have finished\");\n  }\n\n  function load_libs(css_urls, js_urls, js_modules, js_exports, callback) {\n    if (css_urls == null) css_urls = [];\n    if (js_urls == null) js_urls = [];\n    if (js_modules == null) js_modules = [];\n    if (js_exports == null) js_exports = {};\n\n    root._bokeh_onload_callbacks.push(callback);\n\n    if (root._bokeh_is_loading > 0) {\n      console.debug(\"Bokeh: BokehJS is being loaded, scheduling callback at\", now());\n      return null;\n    }\n    if (js_urls.length === 0 && js_modules.length === 0 && Object.keys(js_exports).length === 0) {\n      run_callbacks();\n      return null;\n    }\n    if (!reloading) {\n      console.debug(\"Bokeh: BokehJS not loaded, scheduling load and callback at\", now());\n    }\n\n    function on_load() {\n      root._bokeh_is_loading--;\n      if (root._bokeh_is_loading === 0) {\n        console.debug(\"Bokeh: all BokehJS libraries/stylesheets loaded\");\n        run_callbacks()\n      }\n    }\n    window._bokeh_on_load = on_load\n\n    function on_error() {\n      console.error(\"failed to load \" + url);\n    }\n\n    var skip = [];\n    if (window.requirejs) {\n      window.requirejs.config({'packages': {}, 'paths': {'jspanel': 'https://cdn.jsdelivr.net/npm/jspanel4@4.12.0/dist/jspanel', 'jspanel-modal': 'https://cdn.jsdelivr.net/npm/jspanel4@4.12.0/dist/extensions/modal/jspanel.modal', 'jspanel-tooltip': 'https://cdn.jsdelivr.net/npm/jspanel4@4.12.0/dist/extensions/tooltip/jspanel.tooltip', 'jspanel-hint': 'https://cdn.jsdelivr.net/npm/jspanel4@4.12.0/dist/extensions/hint/jspanel.hint', 'jspanel-layout': 'https://cdn.jsdelivr.net/npm/jspanel4@4.12.0/dist/extensions/layout/jspanel.layout', 'jspanel-contextmenu': 'https://cdn.jsdelivr.net/npm/jspanel4@4.12.0/dist/extensions/contextmenu/jspanel.contextmenu', 'jspanel-dock': 'https://cdn.jsdelivr.net/npm/jspanel4@4.12.0/dist/extensions/dock/jspanel.dock', 'gridstack': 'https://cdn.jsdelivr.net/npm/gridstack@7.2.3/dist/gridstack-all', 'notyf': 'https://cdn.jsdelivr.net/npm/notyf@3/notyf.min'}, 'shim': {'jspanel': {'exports': 'jsPanel'}, 'gridstack': {'exports': 'GridStack'}}});\n      require([\"jspanel\"], function(jsPanel) {\n\twindow.jsPanel = jsPanel\n\ton_load()\n      })\n      require([\"jspanel-modal\"], function() {\n\ton_load()\n      })\n      require([\"jspanel-tooltip\"], function() {\n\ton_load()\n      })\n      require([\"jspanel-hint\"], function() {\n\ton_load()\n      })\n      require([\"jspanel-layout\"], function() {\n\ton_load()\n      })\n      require([\"jspanel-contextmenu\"], function() {\n\ton_load()\n      })\n      require([\"jspanel-dock\"], function() {\n\ton_load()\n      })\n      require([\"gridstack\"], function(GridStack) {\n\twindow.GridStack = GridStack\n\ton_load()\n      })\n      require([\"notyf\"], function() {\n\ton_load()\n      })\n      root._bokeh_is_loading = css_urls.length + 9;\n    } else {\n      root._bokeh_is_loading = css_urls.length + js_urls.length + js_modules.length + Object.keys(js_exports).length;\n    }\n\n    var existing_stylesheets = []\n    var links = document.getElementsByTagName('link')\n    for (var i = 0; i < links.length; i++) {\n      var link = links[i]\n      if (link.href != null) {\n\texisting_stylesheets.push(link.href)\n      }\n    }\n    for (var i = 0; i < css_urls.length; i++) {\n      var url = css_urls[i];\n      if (existing_stylesheets.indexOf(url) !== -1) {\n\ton_load()\n\tcontinue;\n      }\n      const element = document.createElement(\"link\");\n      element.onload = on_load;\n      element.onerror = on_error;\n      element.rel = \"stylesheet\";\n      element.type = \"text/css\";\n      element.href = url;\n      console.debug(\"Bokeh: injecting link tag for BokehJS stylesheet: \", url);\n      document.body.appendChild(element);\n    }    if (((window['jsPanel'] !== undefined) && (!(window['jsPanel'] instanceof HTMLElement))) || window.requirejs) {\n      var urls = ['https://cdn.holoviz.org/panel/1.3.8/dist/bundled/floatpanel/jspanel4@4.12.0/dist/jspanel.js', 'https://cdn.holoviz.org/panel/1.3.8/dist/bundled/floatpanel/jspanel4@4.12.0/dist/extensions/modal/jspanel.modal.js', 'https://cdn.holoviz.org/panel/1.3.8/dist/bundled/floatpanel/jspanel4@4.12.0/dist/extensions/tooltip/jspanel.tooltip.js', 'https://cdn.holoviz.org/panel/1.3.8/dist/bundled/floatpanel/jspanel4@4.12.0/dist/extensions/hint/jspanel.hint.js', 'https://cdn.holoviz.org/panel/1.3.8/dist/bundled/floatpanel/jspanel4@4.12.0/dist/extensions/layout/jspanel.layout.js', 'https://cdn.holoviz.org/panel/1.3.8/dist/bundled/floatpanel/jspanel4@4.12.0/dist/extensions/contextmenu/jspanel.contextmenu.js', 'https://cdn.holoviz.org/panel/1.3.8/dist/bundled/floatpanel/jspanel4@4.12.0/dist/extensions/dock/jspanel.dock.js'];\n      for (var i = 0; i < urls.length; i++) {\n        skip.push(urls[i])\n      }\n    }    if (((window['GridStack'] !== undefined) && (!(window['GridStack'] instanceof HTMLElement))) || window.requirejs) {\n      var urls = ['https://cdn.holoviz.org/panel/1.3.8/dist/bundled/gridstack/gridstack@7.2.3/dist/gridstack-all.js'];\n      for (var i = 0; i < urls.length; i++) {\n        skip.push(urls[i])\n      }\n    }    if (((window['Notyf'] !== undefined) && (!(window['Notyf'] instanceof HTMLElement))) || window.requirejs) {\n      var urls = ['https://cdn.holoviz.org/panel/1.3.8/dist/bundled/notificationarea/notyf@3/notyf.min.js'];\n      for (var i = 0; i < urls.length; i++) {\n        skip.push(urls[i])\n      }\n    }    var existing_scripts = []\n    var scripts = document.getElementsByTagName('script')\n    for (var i = 0; i < scripts.length; i++) {\n      var script = scripts[i]\n      if (script.src != null) {\n\texisting_scripts.push(script.src)\n      }\n    }\n    for (var i = 0; i < js_urls.length; i++) {\n      var url = js_urls[i];\n      if (skip.indexOf(url) !== -1 || existing_scripts.indexOf(url) !== -1) {\n\tif (!window.requirejs) {\n\t  on_load();\n\t}\n\tcontinue;\n      }\n      var element = document.createElement('script');\n      element.onload = on_load;\n      element.onerror = on_error;\n      element.async = false;\n      element.src = url;\n      console.debug(\"Bokeh: injecting script tag for BokehJS library: \", url);\n      document.head.appendChild(element);\n    }\n    for (var i = 0; i < js_modules.length; i++) {\n      var url = js_modules[i];\n      if (skip.indexOf(url) !== -1 || existing_scripts.indexOf(url) !== -1) {\n\tif (!window.requirejs) {\n\t  on_load();\n\t}\n\tcontinue;\n      }\n      var element = document.createElement('script');\n      element.onload = on_load;\n      element.onerror = on_error;\n      element.async = false;\n      element.src = url;\n      element.type = \"module\";\n      console.debug(\"Bokeh: injecting script tag for BokehJS library: \", url);\n      document.head.appendChild(element);\n    }\n    for (const name in js_exports) {\n      var url = js_exports[name];\n      if (skip.indexOf(url) >= 0 || root[name] != null) {\n\tif (!window.requirejs) {\n\t  on_load();\n\t}\n\tcontinue;\n      }\n      var element = document.createElement('script');\n      element.onerror = on_error;\n      element.async = false;\n      element.type = \"module\";\n      console.debug(\"Bokeh: injecting script tag for BokehJS library: \", url);\n      element.textContent = `\n      import ${name} from \"${url}\"\n      window.${name} = ${name}\n      window._bokeh_on_load()\n      `\n      document.head.appendChild(element);\n    }\n    if (!js_urls.length && !js_modules.length) {\n      on_load()\n    }\n  };\n\n  function inject_raw_css(css) {\n    const element = document.createElement(\"style\");\n    element.appendChild(document.createTextNode(css));\n    document.body.appendChild(element);\n  }\n\n  var js_urls = [\"https://cdn.bokeh.org/bokeh/release/bokeh-3.3.4.min.js\", \"https://cdn.bokeh.org/bokeh/release/bokeh-gl-3.3.4.min.js\", \"https://cdn.bokeh.org/bokeh/release/bokeh-widgets-3.3.4.min.js\", \"https://cdn.bokeh.org/bokeh/release/bokeh-tables-3.3.4.min.js\", \"https://cdn.holoviz.org/panel/1.3.8/dist/panel.min.js\"];\n  var js_modules = [];\n  var js_exports = {};\n  var css_urls = [];\n  var inline_js = [    function(Bokeh) {\n      Bokeh.set_log_level(\"info\");\n    },\nfunction(Bokeh) {} // ensure no trailing comma for IE\n  ];\n\n  function run_inline_js() {\n    if ((root.Bokeh !== undefined) || (force === true)) {\n      for (var i = 0; i < inline_js.length; i++) {\n\ttry {\n          inline_js[i].call(root, root.Bokeh);\n\t} catch(e) {\n\t  if (!reloading) {\n\t    throw e;\n\t  }\n\t}\n      }\n      // Cache old bokeh versions\n      if (Bokeh != undefined && !reloading) {\n\tvar NewBokeh = root.Bokeh;\n\tif (Bokeh.versions === undefined) {\n\t  Bokeh.versions = new Map();\n\t}\n\tif (NewBokeh.version !== Bokeh.version) {\n\t  Bokeh.versions.set(NewBokeh.version, NewBokeh)\n\t}\n\troot.Bokeh = Bokeh;\n      }} else if (Date.now() < root._bokeh_timeout) {\n      setTimeout(run_inline_js, 100);\n    } else if (!root._bokeh_failed_load) {\n      console.log(\"Bokeh: BokehJS failed to load within specified timeout.\");\n      root._bokeh_failed_load = true;\n    }\n    root._bokeh_is_initializing = false\n  }\n\n  function load_or_wait() {\n    // Implement a backoff loop that tries to ensure we do not load multiple\n    // versions of Bokeh and its dependencies at the same time.\n    // In recent versions we use the root._bokeh_is_initializing flag\n    // to determine whether there is an ongoing attempt to initialize\n    // bokeh, however for backward compatibility we also try to ensure\n    // that we do not start loading a newer (Panel>=1.0 and Bokeh>3) version\n    // before older versions are fully initialized.\n    if (root._bokeh_is_initializing && Date.now() > root._bokeh_timeout) {\n      root._bokeh_is_initializing = false;\n      root._bokeh_onload_callbacks = undefined;\n      console.log(\"Bokeh: BokehJS was loaded multiple times but one version failed to initialize.\");\n      load_or_wait();\n    } else if (root._bokeh_is_initializing || (typeof root._bokeh_is_initializing === \"undefined\" && root._bokeh_onload_callbacks !== undefined)) {\n      setTimeout(load_or_wait, 100);\n    } else {\n      root._bokeh_is_initializing = true\n      root._bokeh_onload_callbacks = []\n      var bokeh_loaded = Bokeh != null && (Bokeh.version === py_version || (Bokeh.versions !== undefined && Bokeh.versions.has(py_version)));\n      if (!reloading && !bokeh_loaded) {\n\troot.Bokeh = undefined;\n      }\n      load_libs(css_urls, js_urls, js_modules, js_exports, function() {\n\tconsole.debug(\"Bokeh: BokehJS plotting callback run at\", now());\n\trun_inline_js();\n      });\n    }\n  }\n  // Give older versions of the autoload script a head-start to ensure\n  // they initialize before we start loading newer version.\n  setTimeout(load_or_wait, 100)\n}(window));",
      "application/vnd.holoviews_load.v0+json": ""
     },
     "metadata": {},
     "output_type": "display_data"
    },
    {
     "data": {
      "application/javascript": "\nif ((window.PyViz === undefined) || (window.PyViz instanceof HTMLElement)) {\n  window.PyViz = {comms: {}, comm_status:{}, kernels:{}, receivers: {}, plot_index: []}\n}\n\n\n    function JupyterCommManager() {\n    }\n\n    JupyterCommManager.prototype.register_target = function(plot_id, comm_id, msg_handler) {\n      if (window.comm_manager || ((window.Jupyter !== undefined) && (Jupyter.notebook.kernel != null))) {\n        var comm_manager = window.comm_manager || Jupyter.notebook.kernel.comm_manager;\n        comm_manager.register_target(comm_id, function(comm) {\n          comm.on_msg(msg_handler);\n        });\n      } else if ((plot_id in window.PyViz.kernels) && (window.PyViz.kernels[plot_id])) {\n        window.PyViz.kernels[plot_id].registerCommTarget(comm_id, function(comm) {\n          comm.onMsg = msg_handler;\n        });\n      } else if (typeof google != 'undefined' && google.colab.kernel != null) {\n        google.colab.kernel.comms.registerTarget(comm_id, (comm) => {\n          var messages = comm.messages[Symbol.asyncIterator]();\n          function processIteratorResult(result) {\n            var message = result.value;\n            console.log(message)\n            var content = {data: message.data, comm_id};\n            var buffers = []\n            for (var buffer of message.buffers || []) {\n              buffers.push(new DataView(buffer))\n            }\n            var metadata = message.metadata || {};\n            var msg = {content, buffers, metadata}\n            msg_handler(msg);\n            return messages.next().then(processIteratorResult);\n          }\n          return messages.next().then(processIteratorResult);\n        })\n      }\n    }\n\n    JupyterCommManager.prototype.get_client_comm = function(plot_id, comm_id, msg_handler) {\n      if (comm_id in window.PyViz.comms) {\n        return window.PyViz.comms[comm_id];\n      } else if (window.comm_manager || ((window.Jupyter !== undefined) && (Jupyter.notebook.kernel != null))) {\n        var comm_manager = window.comm_manager || Jupyter.notebook.kernel.comm_manager;\n        var comm = comm_manager.new_comm(comm_id, {}, {}, {}, comm_id);\n        if (msg_handler) {\n          comm.on_msg(msg_handler);\n        }\n      } else if ((plot_id in window.PyViz.kernels) && (window.PyViz.kernels[plot_id])) {\n        var comm = window.PyViz.kernels[plot_id].connectToComm(comm_id);\n        comm.open();\n        if (msg_handler) {\n          comm.onMsg = msg_handler;\n        }\n      } else if (typeof google != 'undefined' && google.colab.kernel != null) {\n        var comm_promise = google.colab.kernel.comms.open(comm_id)\n        comm_promise.then((comm) => {\n          window.PyViz.comms[comm_id] = comm;\n          if (msg_handler) {\n            var messages = comm.messages[Symbol.asyncIterator]();\n            function processIteratorResult(result) {\n              var message = result.value;\n              var content = {data: message.data};\n              var metadata = message.metadata || {comm_id};\n              var msg = {content, metadata}\n              msg_handler(msg);\n              return messages.next().then(processIteratorResult);\n            }\n            return messages.next().then(processIteratorResult);\n          }\n        }) \n        var sendClosure = (data, metadata, buffers, disposeOnDone) => {\n          return comm_promise.then((comm) => {\n            comm.send(data, metadata, buffers, disposeOnDone);\n          });\n        };\n        var comm = {\n          send: sendClosure\n        };\n      }\n      window.PyViz.comms[comm_id] = comm;\n      return comm;\n    }\n    window.PyViz.comm_manager = new JupyterCommManager();\n    \n\n\nvar JS_MIME_TYPE = 'application/javascript';\nvar HTML_MIME_TYPE = 'text/html';\nvar EXEC_MIME_TYPE = 'application/vnd.holoviews_exec.v0+json';\nvar CLASS_NAME = 'output';\n\n/**\n * Render data to the DOM node\n */\nfunction render(props, node) {\n  var div = document.createElement(\"div\");\n  var script = document.createElement(\"script\");\n  node.appendChild(div);\n  node.appendChild(script);\n}\n\n/**\n * Handle when a new output is added\n */\nfunction handle_add_output(event, handle) {\n  var output_area = handle.output_area;\n  var output = handle.output;\n  if ((output.data == undefined) || (!output.data.hasOwnProperty(EXEC_MIME_TYPE))) {\n    return\n  }\n  var id = output.metadata[EXEC_MIME_TYPE][\"id\"];\n  var toinsert = output_area.element.find(\".\" + CLASS_NAME.split(' ')[0]);\n  if (id !== undefined) {\n    var nchildren = toinsert.length;\n    var html_node = toinsert[nchildren-1].children[0];\n    html_node.innerHTML = output.data[HTML_MIME_TYPE];\n    var scripts = [];\n    var nodelist = html_node.querySelectorAll(\"script\");\n    for (var i in nodelist) {\n      if (nodelist.hasOwnProperty(i)) {\n        scripts.push(nodelist[i])\n      }\n    }\n\n    scripts.forEach( function (oldScript) {\n      var newScript = document.createElement(\"script\");\n      var attrs = [];\n      var nodemap = oldScript.attributes;\n      for (var j in nodemap) {\n        if (nodemap.hasOwnProperty(j)) {\n          attrs.push(nodemap[j])\n        }\n      }\n      attrs.forEach(function(attr) { newScript.setAttribute(attr.name, attr.value) });\n      newScript.appendChild(document.createTextNode(oldScript.innerHTML));\n      oldScript.parentNode.replaceChild(newScript, oldScript);\n    });\n    if (JS_MIME_TYPE in output.data) {\n      toinsert[nchildren-1].children[1].textContent = output.data[JS_MIME_TYPE];\n    }\n    output_area._hv_plot_id = id;\n    if ((window.Bokeh !== undefined) && (id in Bokeh.index)) {\n      window.PyViz.plot_index[id] = Bokeh.index[id];\n    } else {\n      window.PyViz.plot_index[id] = null;\n    }\n  } else if (output.metadata[EXEC_MIME_TYPE][\"server_id\"] !== undefined) {\n    var bk_div = document.createElement(\"div\");\n    bk_div.innerHTML = output.data[HTML_MIME_TYPE];\n    var script_attrs = bk_div.children[0].attributes;\n    for (var i = 0; i < script_attrs.length; i++) {\n      toinsert[toinsert.length - 1].childNodes[1].setAttribute(script_attrs[i].name, script_attrs[i].value);\n    }\n    // store reference to server id on output_area\n    output_area._bokeh_server_id = output.metadata[EXEC_MIME_TYPE][\"server_id\"];\n  }\n}\n\n/**\n * Handle when an output is cleared or removed\n */\nfunction handle_clear_output(event, handle) {\n  var id = handle.cell.output_area._hv_plot_id;\n  var server_id = handle.cell.output_area._bokeh_server_id;\n  if (((id === undefined) || !(id in PyViz.plot_index)) && (server_id !== undefined)) { return; }\n  var comm = window.PyViz.comm_manager.get_client_comm(\"hv-extension-comm\", \"hv-extension-comm\", function () {});\n  if (server_id !== null) {\n    comm.send({event_type: 'server_delete', 'id': server_id});\n    return;\n  } else if (comm !== null) {\n    comm.send({event_type: 'delete', 'id': id});\n  }\n  delete PyViz.plot_index[id];\n  if ((window.Bokeh !== undefined) & (id in window.Bokeh.index)) {\n    var doc = window.Bokeh.index[id].model.document\n    doc.clear();\n    const i = window.Bokeh.documents.indexOf(doc);\n    if (i > -1) {\n      window.Bokeh.documents.splice(i, 1);\n    }\n  }\n}\n\n/**\n * Handle kernel restart event\n */\nfunction handle_kernel_cleanup(event, handle) {\n  delete PyViz.comms[\"hv-extension-comm\"];\n  window.PyViz.plot_index = {}\n}\n\n/**\n * Handle update_display_data messages\n */\nfunction handle_update_output(event, handle) {\n  handle_clear_output(event, {cell: {output_area: handle.output_area}})\n  handle_add_output(event, handle)\n}\n\nfunction register_renderer(events, OutputArea) {\n  function append_mime(data, metadata, element) {\n    // create a DOM node to render to\n    var toinsert = this.create_output_subarea(\n    metadata,\n    CLASS_NAME,\n    EXEC_MIME_TYPE\n    );\n    this.keyboard_manager.register_events(toinsert);\n    // Render to node\n    var props = {data: data, metadata: metadata[EXEC_MIME_TYPE]};\n    render(props, toinsert[0]);\n    element.append(toinsert);\n    return toinsert\n  }\n\n  events.on('output_added.OutputArea', handle_add_output);\n  events.on('output_updated.OutputArea', handle_update_output);\n  events.on('clear_output.CodeCell', handle_clear_output);\n  events.on('delete.Cell', handle_clear_output);\n  events.on('kernel_ready.Kernel', handle_kernel_cleanup);\n\n  OutputArea.prototype.register_mime_type(EXEC_MIME_TYPE, append_mime, {\n    safe: true,\n    index: 0\n  });\n}\n\nif (window.Jupyter !== undefined) {\n  try {\n    var events = require('base/js/events');\n    var OutputArea = require('notebook/js/outputarea').OutputArea;\n    if (OutputArea.prototype.mime_types().indexOf(EXEC_MIME_TYPE) == -1) {\n      register_renderer(events, OutputArea);\n    }\n  } catch(err) {\n  }\n}\n",
      "application/vnd.holoviews_load.v0+json": ""
     },
     "metadata": {},
     "output_type": "display_data"
    },
    {
     "data": {
      "text/html": [
       "<style>*[data-root-id],\n",
       "*[data-root-id] > * {\n",
       "  box-sizing: border-box;\n",
       "  font-family: var(--jp-ui-font-family);\n",
       "  font-size: var(--jp-ui-font-size1);\n",
       "  color: var(--vscode-editor-foreground, var(--jp-ui-font-color1));\n",
       "}\n",
       "\n",
       "/* Override VSCode background color */\n",
       ".cell-output-ipywidget-background:has(\n",
       "    > .cell-output-ipywidget-background > .lm-Widget > *[data-root-id]\n",
       "  ),\n",
       ".cell-output-ipywidget-background:has(> .lm-Widget > *[data-root-id]) {\n",
       "  background-color: transparent !important;\n",
       "}\n",
       "</style>"
      ]
     },
     "metadata": {},
     "output_type": "display_data"
    },
    {
     "data": {
      "application/vnd.holoviews_exec.v0+json": "",
      "text/html": [
       "<div id='p1004'>\n",
       "  <div id=\"e4d1e0e5-2eef-412c-be4f-035d8ea1a53b\" data-root-id=\"p1004\" style=\"display: contents;\"></div>\n",
       "</div>\n",
       "<script type=\"application/javascript\">(function(root) {\n",
       "  var docs_json = {\"54fa5713-601f-4035-977e-f7f02cec375e\":{\"version\":\"3.3.4\",\"title\":\"Bokeh Application\",\"roots\":[{\"type\":\"object\",\"name\":\"panel.models.browser.BrowserInfo\",\"id\":\"p1004\"},{\"type\":\"object\",\"name\":\"panel.models.comm_manager.CommManager\",\"id\":\"p1005\",\"attributes\":{\"plot_id\":\"p1004\",\"comm_id\":\"6578ddb0ee9e482daa81cfb0470d231e\",\"client_comm_id\":\"d773d651d7fe4d4cbbed87c61a2d9997\"}}],\"defs\":[{\"type\":\"model\",\"name\":\"ReactiveHTML1\"},{\"type\":\"model\",\"name\":\"FlexBox1\",\"properties\":[{\"name\":\"align_content\",\"kind\":\"Any\",\"default\":\"flex-start\"},{\"name\":\"align_items\",\"kind\":\"Any\",\"default\":\"flex-start\"},{\"name\":\"flex_direction\",\"kind\":\"Any\",\"default\":\"row\"},{\"name\":\"flex_wrap\",\"kind\":\"Any\",\"default\":\"wrap\"},{\"name\":\"justify_content\",\"kind\":\"Any\",\"default\":\"flex-start\"}]},{\"type\":\"model\",\"name\":\"FloatPanel1\",\"properties\":[{\"name\":\"config\",\"kind\":\"Any\",\"default\":{\"type\":\"map\"}},{\"name\":\"contained\",\"kind\":\"Any\",\"default\":true},{\"name\":\"position\",\"kind\":\"Any\",\"default\":\"right-top\"},{\"name\":\"offsetx\",\"kind\":\"Any\",\"default\":null},{\"name\":\"offsety\",\"kind\":\"Any\",\"default\":null},{\"name\":\"theme\",\"kind\":\"Any\",\"default\":\"primary\"},{\"name\":\"status\",\"kind\":\"Any\",\"default\":\"normalized\"}]},{\"type\":\"model\",\"name\":\"GridStack1\",\"properties\":[{\"name\":\"mode\",\"kind\":\"Any\",\"default\":\"warn\"},{\"name\":\"ncols\",\"kind\":\"Any\",\"default\":null},{\"name\":\"nrows\",\"kind\":\"Any\",\"default\":null},{\"name\":\"allow_resize\",\"kind\":\"Any\",\"default\":true},{\"name\":\"allow_drag\",\"kind\":\"Any\",\"default\":true},{\"name\":\"state\",\"kind\":\"Any\",\"default\":[]}]},{\"type\":\"model\",\"name\":\"drag1\",\"properties\":[{\"name\":\"slider_width\",\"kind\":\"Any\",\"default\":5},{\"name\":\"slider_color\",\"kind\":\"Any\",\"default\":\"black\"},{\"name\":\"value\",\"kind\":\"Any\",\"default\":50}]},{\"type\":\"model\",\"name\":\"click1\",\"properties\":[{\"name\":\"terminal_output\",\"kind\":\"Any\",\"default\":\"\"},{\"name\":\"debug_name\",\"kind\":\"Any\",\"default\":\"\"},{\"name\":\"clears\",\"kind\":\"Any\",\"default\":0}]},{\"type\":\"model\",\"name\":\"copy_to_clipboard1\",\"properties\":[{\"name\":\"fill\",\"kind\":\"Any\",\"default\":\"none\"},{\"name\":\"value\",\"kind\":\"Any\",\"default\":null}]},{\"type\":\"model\",\"name\":\"FastWrapper1\",\"properties\":[{\"name\":\"object\",\"kind\":\"Any\",\"default\":null},{\"name\":\"style\",\"kind\":\"Any\",\"default\":null}]},{\"type\":\"model\",\"name\":\"NotificationAreaBase1\",\"properties\":[{\"name\":\"js_events\",\"kind\":\"Any\",\"default\":{\"type\":\"map\"}},{\"name\":\"position\",\"kind\":\"Any\",\"default\":\"bottom-right\"},{\"name\":\"_clear\",\"kind\":\"Any\",\"default\":0}]},{\"type\":\"model\",\"name\":\"NotificationArea1\",\"properties\":[{\"name\":\"js_events\",\"kind\":\"Any\",\"default\":{\"type\":\"map\"}},{\"name\":\"notifications\",\"kind\":\"Any\",\"default\":[]},{\"name\":\"position\",\"kind\":\"Any\",\"default\":\"bottom-right\"},{\"name\":\"_clear\",\"kind\":\"Any\",\"default\":0},{\"name\":\"types\",\"kind\":\"Any\",\"default\":[{\"type\":\"map\",\"entries\":[[\"type\",\"warning\"],[\"background\",\"#ffc107\"],[\"icon\",{\"type\":\"map\",\"entries\":[[\"className\",\"fas fa-exclamation-triangle\"],[\"tagName\",\"i\"],[\"color\",\"white\"]]}]]},{\"type\":\"map\",\"entries\":[[\"type\",\"info\"],[\"background\",\"#007bff\"],[\"icon\",{\"type\":\"map\",\"entries\":[[\"className\",\"fas fa-info-circle\"],[\"tagName\",\"i\"],[\"color\",\"white\"]]}]]}]}]},{\"type\":\"model\",\"name\":\"Notification\",\"properties\":[{\"name\":\"background\",\"kind\":\"Any\",\"default\":null},{\"name\":\"duration\",\"kind\":\"Any\",\"default\":3000},{\"name\":\"icon\",\"kind\":\"Any\",\"default\":null},{\"name\":\"message\",\"kind\":\"Any\",\"default\":\"\"},{\"name\":\"notification_type\",\"kind\":\"Any\",\"default\":null},{\"name\":\"_destroyed\",\"kind\":\"Any\",\"default\":false}]},{\"type\":\"model\",\"name\":\"TemplateActions1\",\"properties\":[{\"name\":\"open_modal\",\"kind\":\"Any\",\"default\":0},{\"name\":\"close_modal\",\"kind\":\"Any\",\"default\":0}]},{\"type\":\"model\",\"name\":\"BootstrapTemplateActions1\",\"properties\":[{\"name\":\"open_modal\",\"kind\":\"Any\",\"default\":0},{\"name\":\"close_modal\",\"kind\":\"Any\",\"default\":0}]},{\"type\":\"model\",\"name\":\"MaterialTemplateActions1\",\"properties\":[{\"name\":\"open_modal\",\"kind\":\"Any\",\"default\":0},{\"name\":\"close_modal\",\"kind\":\"Any\",\"default\":0}]}]}};\n",
       "  var render_items = [{\"docid\":\"54fa5713-601f-4035-977e-f7f02cec375e\",\"roots\":{\"p1004\":\"e4d1e0e5-2eef-412c-be4f-035d8ea1a53b\"},\"root_ids\":[\"p1004\"]}];\n",
       "  var docs = Object.values(docs_json)\n",
       "  if (!docs) {\n",
       "    return\n",
       "  }\n",
       "  const py_version = docs[0].version.replace('rc', '-rc.').replace('.dev', '-dev.')\n",
       "  function embed_document(root) {\n",
       "    var Bokeh = get_bokeh(root)\n",
       "    Bokeh.embed.embed_items_notebook(docs_json, render_items);\n",
       "    for (const render_item of render_items) {\n",
       "      for (const root_id of render_item.root_ids) {\n",
       "\tconst id_el = document.getElementById(root_id)\n",
       "\tif (id_el.children.length && (id_el.children[0].className === 'bk-root')) {\n",
       "\t  const root_el = id_el.children[0]\n",
       "\t  root_el.id = root_el.id + '-rendered'\n",
       "\t}\n",
       "      }\n",
       "    }\n",
       "  }\n",
       "  function get_bokeh(root) {\n",
       "    if (root.Bokeh === undefined) {\n",
       "      return null\n",
       "    } else if (root.Bokeh.version !== py_version) {\n",
       "      if (root.Bokeh.versions === undefined || !root.Bokeh.versions.has(py_version)) {\n",
       "\treturn null\n",
       "      }\n",
       "      return root.Bokeh.versions.get(py_version);\n",
       "    } else if (root.Bokeh.version === py_version) {\n",
       "      return root.Bokeh\n",
       "    }\n",
       "    return null\n",
       "  }\n",
       "  function is_loaded(root) {\n",
       "    var Bokeh = get_bokeh(root)\n",
       "    return (Bokeh != null && Bokeh.Panel !== undefined)\n",
       "  }\n",
       "  if (is_loaded(root)) {\n",
       "    embed_document(root);\n",
       "  } else {\n",
       "    var attempts = 0;\n",
       "    var timer = setInterval(function(root) {\n",
       "      if (is_loaded(root)) {\n",
       "        clearInterval(timer);\n",
       "        embed_document(root);\n",
       "      } else if (document.readyState == \"complete\") {\n",
       "        attempts++;\n",
       "        if (attempts > 200) {\n",
       "          clearInterval(timer);\n",
       "\t  var Bokeh = get_bokeh(root)\n",
       "\t  if (Bokeh == null || Bokeh.Panel == null) {\n",
       "            console.warn(\"Panel: ERROR: Unable to run Panel code because Bokeh or Panel library is missing\");\n",
       "\t  } else {\n",
       "\t    console.warn(\"Panel: WARNING: Attempting to render but not all required libraries could be resolved.\")\n",
       "\t    embed_document(root)\n",
       "\t  }\n",
       "        }\n",
       "      }\n",
       "    }, 25, root)\n",
       "  }\n",
       "})(window);</script>"
      ]
     },
     "metadata": {
      "application/vnd.holoviews_exec.v0+json": {
       "id": "p1004"
      }
     },
     "output_type": "display_data"
    }
   ],
   "source": [
    "from glob import glob\n",
    "import pandas as pd\n",
    "import numpy as np\n",
    "import xarray as xr\n",
    "import holoviews as hv\n",
    "import hvplot.pandas, hvplot.xarray\n",
    "from holoviews import opts\n",
    "import dask\n",
    "import dask.bag as db\n",
    "import intake\n",
    "\n",
    "hvplot.extension('matplotlib')\n",
    "\n",
    "from lib.preamble import *\n",
    "\n",
    "import warnings\n",
    "warnings.filterwarnings(\"ignore\")\n",
    "# %matplotlib widget"
   ]
  },
  {
   "cell_type": "code",
   "execution_count": 16,
   "metadata": {
    "notebookRunGroups": {
     "groupValue": "1"
    }
   },
   "outputs": [
    {
     "name": "stdout",
     "output_type": "stream",
     "text": [
      "Error importing ../data/2023-12-05_LO_MG_NiPS3/d004_10K_647nm_rotPolDet_26degPolExc_flake04.hd5.h5\n"
     ]
    }
   ],
   "source": [
    "import h5py\n",
    "paths = glob(\"../data/2023-12-01/d*.h5\")\n",
    "paths += glob(\"../data/2023-12-04*/*.h5\")\n",
    "paths += glob(\"../data/2023-12-05*/*.h5\")\n",
    "\n",
    "def custom_import(p):\n",
    "\ttry:\n",
    "\t\twith h5py.File(p, \"r\") as f:\n",
    "\t\t\twavelength = np.array(f['x'])[0]\n",
    "\t\t\tangle = np.array(f['y'])\n",
    "\t\t\tcounts = np.array(f['z'])\n",
    "\texcept:\n",
    "\t\tprint(f\"Error importing {p}\")\n",
    "\t\treturn None\n",
    "\t\n",
    "\tar = xr.DataArray(\n",
    "\t\tcounts,\n",
    "\t\tcoords={\n",
    "\t\t\t'angle': angle,\n",
    "\t\t\t'wavelength': wavelength\n",
    "\t\t}\n",
    "\t)\n",
    "\n",
    "\tar.attrs = {\n",
    "\t\t**ar.attrs,\n",
    "\t\t\"path\": p.split(\"data/\")[-1],\n",
    "\t\t\"name\": \".\".join(p.split(\"data/\")[-1].split(\".\")[:-1]),\n",
    "\t}\n",
    "\tar.name = ar.attrs[\"name\"]\n",
    "\t\n",
    "\treturn ar\n",
    "\n",
    "paths.sort()\n",
    "data = [custom_import(p) for p in paths]\n",
    "data = [d for d in data if d is not None]"
   ]
  },
  {
   "cell_type": "code",
   "execution_count": 17,
   "metadata": {
    "notebookRunGroups": {
     "groupValue": "1"
    }
   },
   "outputs": [],
   "source": [
    "# import backgrounds\n",
    "paths = glob(\"../data/2023-12-01/d*.asc\")\n",
    "paths += glob(\"../data/2023-12-05*/d*.asc\")\n",
    "paths = [p for p in paths if \"bkg\" in p]\n",
    "paths.sort()\n",
    "\n",
    "import csv\n",
    "\n",
    "def _read_csv(path):\n",
    "\trows = []\n",
    "\twith open(path) as f:\n",
    "\t\tr = csv.reader(f, delimiter=\"\\t\")\n",
    "\t\tfor row in r:\n",
    "\t\t\tif len(row) == 0:\n",
    "\t\t\t\treturn rows\n",
    "\t\t\trows.append(row)\n",
    "\treturn rows\n",
    "\n",
    "def custom_import(p):\n",
    "\td = np.array(_read_csv(p))[:, :-1]\n",
    "\t# convert strings to floats\n",
    "\td = d.astype(float)\n",
    "\n",
    "\tar = xr.DataArray(\n",
    "\t\td[:, 1],\n",
    "\t\tcoords={\n",
    "\t\t\t'wavelength': d[:, 0]\n",
    "\t\t}\n",
    "\t)\n",
    "\n",
    "\tar.attrs = {\n",
    "\t\t**ar.attrs,\n",
    "\t\t\"path\": p.split(\"data/\")[-1],\n",
    "\t\t\"name\": p.split(\"/\")[-1].split(\".\")[0],\n",
    "\t}\n",
    "\tar.name = ar.attrs[\"name\"]\n",
    "\n",
    "\treturn ar\n",
    "\n",
    "bkg = [custom_import(p) for p in paths]\n",
    "\n",
    "bkg[1] = bkg[1] / 10\n",
    "bkg[2] = bkg[2] / 3\n",
    "\n",
    "def subtract_background(sel, b=bkg[-1]):\n",
    "\td =  sel - b.interp(wavelength=sel.wavelength)\n",
    "\td.attrs = sel.attrs\n",
    "\td.name = sel.name\n",
    "\td.attrs[\"background_subtracted\"] = True\n",
    "\treturn d"
   ]
  },
  {
   "cell_type": "markdown",
   "metadata": {},
   "source": [
    "# Quick Preview"
   ]
  },
  {
   "cell_type": "code",
   "execution_count": 18,
   "metadata": {
    "notebookRunGroups": {
     "groupValue": "1"
    }
   },
   "outputs": [
    {
     "data": {
      "text/plain": [
       "{0: '2023-12-01/d001_pol_30K_0T_1mW_647nm_HorizPolDetektor_rotatingLaserPolarisation.hd5',\n",
       " 1: '2023-12-01/d002_pol_30K_0T_561nm_HorizPolDetektor_rotatingLaserPolarisation.hd5',\n",
       " 2: '2023-12-01/d003_pol_30K_0T_561nm_HorizPolDetektor_rotatingLaserPolarisation.hd5',\n",
       " 3: '2023-12-01/d004_pol_30K_0T_647nm_rotatingPolDetektor_30degLaserPolarisation.hd5',\n",
       " 4: '2023-12-01/d005_pol_30K_0T_647nm_rotatingPolDetektor_72degLaserPolarisation.hd5',\n",
       " 5: '2023-12-04_LO_MG_NiPS3/d001_pol_30K_0T_647nm_circPolDet_rotatingPolExc',\n",
       " 6: '2023-12-04_LO_MG_NiPS3/d002_pol_30K_0T_647nm_0degPolDet_rotatingPolExc',\n",
       " 7: '2023-12-04_LO_MG_NiPS3/d002_pol_30K_0T_647nm_11.25degPolDet_rotatingPolExc',\n",
       " 8: '2023-12-04_LO_MG_NiPS3/d002_pol_30K_0T_647nm_22.5degPolDet_rotatingPolExc',\n",
       " 9: '2023-12-04_LO_MG_NiPS3/d002_pol_30K_0T_647nm_33.75degPolDet_rotatingPolExc',\n",
       " 10: '2023-12-04_LO_MG_NiPS3/d002_pol_30K_0T_647nm_45degPolDet_rotatingPolExc',\n",
       " 11: '2023-12-04_LO_MG_NiPS3/d003_pol_30K_0T_647nm_rotPolDet_27degPolExc_flake02',\n",
       " 12: '2023-12-04_LO_MG_NiPS3/d003_pol_30K_1T_647nm_rotPolDet_27degPolExc_flake02',\n",
       " 13: '2023-12-04_LO_MG_NiPS3/d003_pol_30K_2T_647nm_rotPolDet_27degPolExc_flake02',\n",
       " 14: '2023-12-04_LO_MG_NiPS3/d003_pol_30K_3T_647nm_rotPolDet_27degPolExc_flake02',\n",
       " 15: '2023-12-04_LO_MG_NiPS3/d003_pol_30K_4T_647nm_rotPolDet_27degPolExc_flake02',\n",
       " 16: '2023-12-04_LO_MG_NiPS3/d003_pol_30K_5T_647nm_rotPolDet_27degPolExc_flake02',\n",
       " 17: '2023-12-04_LO_MG_NiPS3/d004_pol_30K_10T_647nm_0degPolDet_rotPolExc_flake02',\n",
       " 18: '2023-12-04_LO_MG_NiPS3/d004_pol_30K_5T_647nm_0degPolDet_rotPolExc_flake02',\n",
       " 19: '2023-12-05_LO_MG_NiPS3/d002_pol_30K_0T_647nm_circPolDet_rotPolExc_flake04',\n",
       " 20: '2023-12-05_LO_MG_NiPS3/d002_pol_30K_4T_647nm_rotPolDet_26degPolExc_flake04',\n",
       " 21: '2023-12-05_LO_MG_NiPS3/d003_pol_30K_0T_647nm_rotPolDet_26degPolExc_flake04',\n",
       " 22: '2023-12-05_LO_MG_NiPS3/d003_pol_30K_1T_647nm_rotPolDet_26degPolExc_flake04',\n",
       " 23: '2023-12-05_LO_MG_NiPS3/d003_pol_30K_3T_647nm_rotPolDet_26degPolExc_flake04',\n",
       " 24: '2023-12-05_LO_MG_NiPS3/d003_pol_30K_4T_647nm_rotPolDet_26degPolExc_flake04'}"
      ]
     },
     "execution_count": 18,
     "metadata": {},
     "output_type": "execute_result"
    }
   ],
   "source": [
    "{i:d.name for i, d in enumerate(data)}"
   ]
  },
  {
   "cell_type": "code",
   "execution_count": 19,
   "metadata": {},
   "outputs": [],
   "source": [
    "# quick preview of measurement\n",
    "\n",
    "sel = data[3].copy()\n",
    "sel = data[-1].copy()\n",
    "# sel = data[11].copy()\n",
    "name = sel.name\n",
    "sel = subtract_background(sel)\n",
    "\n",
    "wavlength_sel = [840.07, 832.5, 850]\n",
    "angle_sel = np.linspace(0, sel.angle.max()-15, 1)\n",
    "\n",
    "# sel = sel /sel.sel(wavelength=slice(830, 835)).mean(\"wavelength\")\n",
    "# sel = sel / sel.max(\"angle\")\n",
    "\n",
    "# sel = sel.interp(angle=np.linspace(sel.angle.min(), sel.angle.max(), 200))\t\t# interpolate angle\n",
    "sel = sel.rolling(wavelength=3, center=True).mean()\t\t\t\t\t\t\t\t# smooth along wavelength\n",
    "\n",
    "plt.figure(figsize=FIGSIZE_WIDE)\n",
    "ax0 = plt.subplot(1,2,1)\n",
    "sel.name = \"\"\n",
    "sel.plot(cmap=\"magma\")\n",
    "plt.title(name, fontsize=FONTSIZE_TINY)\n",
    "\n",
    "for wl in wavlength_sel:\n",
    "\tplt.axvline(wl, color=\"white\", linestyle=\"--\", alpha=.5)\n",
    "\n",
    "for a in angle_sel:\n",
    "\t# plt.axhline(a, color=\"white\", linestyle=\"--\", alpha=.5)\n",
    "\tplt.plot(\n",
    "\t\tsel.wavelength, \n",
    "\t\ta + 20*(sel.sel(angle=a, method=\"nearest\") / sel.max()),\n",
    "\t\tcolor=\"white\"\n",
    "\t)\n",
    "\n",
    "# sel.idxmax('wavelength').plot(color=\"w\", y=\"angle\")\n",
    "# plt.show()\n",
    "\n",
    "\n",
    "ax = plt.subplot(1,2,2, projection=\"polar\")\n",
    "# fig, ax = plt.subplots(subplot_kw={'projection': 'polar'})\n",
    "sel = sel.assign_coords(angle=sel.angle * np.pi/180)\n",
    "sel = sel.assign_coords(angle=sel.angle * 2)\n",
    "\n",
    "def fit(x, *p): return p[0] * np.cos(x + p[1])**2 + p[2]\n",
    "\n",
    "for i, wl in enumerate(wavlength_sel):\n",
    "\tsel.sel(\n",
    "\t\twavelength=wl,\n",
    "\t\tmethod=\"nearest\"\n",
    "\t).plot.scatter(\n",
    "\t\tlabel=f\"{wl:.0f} nm\",\n",
    "\t\ts=30\n",
    "\t)\n",
    "\tpopt, pcov = sp.optimize.curve_fit(fit, \n",
    "\t\tsel.angle, sel.sel(wavelength=wl, method=\"nearest\"), \n",
    "\t\tp0=[1, 0, 0]\n",
    "\t)\n",
    "\t# print(f\"best angle for {wl:.0f} nm: {np.abs(popt[1])%(np.pi/2) * 180/np.pi:.2f}° +- {np.sqrt(pcov[1,1]) * 180/np.pi:.2f}°\")\n",
    "\tangle = np.linspace(0, 2*np.pi, 100)\n",
    "\tplt.plot(angle, fit(angle, *popt),\n",
    "\t\tlabel=f\"{np.abs(popt[1])%(np.pi/2) * 180/np.pi:.1f}±{np.sqrt(pcov[1,1]) * 180/np.pi:.1f}°\",\n",
    "\t\tlinestyle=\"--\" if i != 0 else \"-\"\n",
    "\t)\n",
    "\n",
    "plt.legend(bbox_to_anchor=(1.1, 1))\n",
    "# plt.title(name, fontsize=FONTSIZE_TINY)\n",
    "plt.title(\"\")\n",
    "plt.ylabel(\"\")\n",
    "plt.xlabel(\"\")\n",
    "ax.set_rlabel_position(-90)\n",
    "\n",
    "plt.show()"
   ]
  },
  {
   "cell_type": "code",
   "execution_count": 20,
   "metadata": {},
   "outputs": [],
   "source": [
    "plt.figure()\n",
    "plt.plot(sel.wavelength, sel.sel(angle=0, method=\"nearest\"), label=\"0\")\n",
    "plt.plot(sel.wavelength, sel.sel(angle=45/2, method=\"nearest\"), label=\"45/2\")\n",
    "plt.plot(sel.wavelength, sel.sel(angle=45, method=\"nearest\"), label=\"45\")\n",
    "plt.legend()\n",
    "plt.show()"
   ]
  },
  {
   "cell_type": "code",
   "execution_count": 21,
   "metadata": {},
   "outputs": [],
   "source": [
    "sel0 = sel.sel(\n",
    "\t\twavelength=840,\n",
    "\t\tmethod=\"nearest\"\n",
    "\t)"
   ]
  },
  {
   "cell_type": "markdown",
   "metadata": {},
   "source": [
    "## Preview of Excitation and Luminescence Polarisation Dependence"
   ]
  },
  {
   "cell_type": "code",
   "execution_count": 22,
   "metadata": {},
   "outputs": [
    {
     "name": "stdout",
     "output_type": "stream",
     "text": [
      "2023-12-01/d004_pol_30K_0T_647nm_rotatingPolDetektor_30degLaserPolarisation.hd5\n"
     ]
    }
   ],
   "source": [
    "# systematic excitation and detection polarisation dependence\n",
    "sel = data[3:5]\n",
    "sel = [d.copy() for d in sel]\n",
    "sel = [subtract_background(d) for d in sel]\n",
    "sel = [d.rolling(wavelength=5).mean() for d in sel]\t\t\t\t\t\t\t\t# smooth along wavelength\n",
    "\n",
    "print(sel[0].name)\n",
    "\n",
    "def norm(d):\n",
    "\treturn d.max(\"wavelength\")\n",
    "\n",
    "def fit(x, *p): return p[0] * np.cos(x + p[1])**2 + p[2]\n",
    "\n",
    "plt.figure()\n",
    "popt = []\n",
    "popt_unc = []\n",
    "ax = plt.subplot(1,1,1, projection=\"polar\")\n",
    "for d in sel:\n",
    "\td = d.assign_coords(angle=d.angle * np.pi/180)\n",
    "\td = d.assign_coords(angle=d.angle * 2)\n",
    "\tnorm(\n",
    "\t\td\n",
    "\t).plot.scatter(label=d.name, s=30)\n",
    "\topot, pcov = sp.optimize.curve_fit(fit, d.angle, norm(d), p0=[1, 0, 0])\n",
    "\tangle = np.linspace(0, 2*np.pi, 100)\n",
    "\tplt.plot(angle, fit(angle, *opot))\n",
    "\tpopt.append(opot)\n",
    "\tpopt_unc.append(np.sqrt(np.diag(pcov)))\n",
    "plt.legend(bbox_to_anchor=(1.1, 1))\n",
    "plt.xlabel(\"excite pol. angle\")\n",
    "plt.title(\"\")\n",
    "plt.ylabel(\"\")\n",
    "ax.set_rlabel_position(-90)\n",
    "plt.show()"
   ]
  },
  {
   "cell_type": "code",
   "execution_count": 23,
   "metadata": {},
   "outputs": [
    {
     "name": "stdout",
     "output_type": "stream",
     "text": [
      "['2023-12-01/d004_pol_30K_0T_647nm_rotatingPolDetektor_30degLaserPolarisation.hd5', '2023-12-01/d005_pol_30K_0T_647nm_rotatingPolDetektor_72degLaserPolarisation.hd5']\n"
     ]
    }
   ],
   "source": [
    "# Preview of Excitation and Luminescence Polarisation Dependence\n",
    "\n",
    "def linear_dichroism(d):\n",
    "\td_bkg = subtract_background(d)\n",
    "\tdichroism = (d_bkg.max(\"angle\") - d_bkg.min(\"angle\")) / (d_bkg.max(\"angle\") + d_bkg.min(\"angle\"))\t\n",
    "\treturn dichroism.rolling_exp(wavelength=10).mean()\n",
    "\n",
    "def extract_LaserPolarisation(p):\n",
    "\treturn p.split(\"Laser\")[0].split(\"_\")[-1]\n",
    "\n",
    "def plot(d):\n",
    "\tlinear_dichroism(d).plot(label=extract_LaserPolarisation(d.name))\n",
    "\n",
    "plt.figure()\n",
    "plot(data[3])\n",
    "plot(data[4])\n",
    "plt.ylabel(\"deg. of pol. in PL\")\n",
    "plt.legend()\n",
    "# plt.savefig(\"../figures/2023-12-01_linear_dichroism.png\")\n",
    "plt.show()\n",
    "\n",
    "sel = data[3:5]\n",
    "print([d.name for d in sel])\n",
    "sel = [subtract_background(d) for d in sel]\n",
    "sel = [d.rolling(wavelength=5).mean() for d in sel]\t\t\t\t\t\t\t\t# smooth along wavelength\n",
    "# sel = [d.interp(angle=np.linspace(d.angle.min(), d.angle.max(), 200)) for d in sel]# interpolate angle\n",
    "pl = sel[0] + sel[1]\n",
    "pol = (sel[0] - sel[1])/pl\n",
    "\n",
    "plt.figure(figsize=FIGSIZE_WIDE)\n",
    "plt.subplot(1,2,1)\n",
    "pl.plot(cmap=CMAP)\n",
    "plt.subplot(1,2,2)\n",
    "pol.plot(cmap=CMAP)\n",
    "plt.ylabel(\"\")\n",
    "# plot.energy_ticks()\n",
    "plt.show()"
   ]
  },
  {
   "cell_type": "markdown",
   "metadata": {},
   "source": [
    "## systematic excitation and detection polarisation dependence measurement"
   ]
  },
  {
   "cell_type": "code",
   "execution_count": 24,
   "metadata": {
    "notebookRunGroups": {
     "groupValue": "1"
    }
   },
   "outputs": [],
   "source": [
    "def _fit_sin_sqr(x, *p):\n",
    "\treturn p[0] * np.sin(x + p[1])**2 + p[2]\n",
    "\n",
    "def fit_sin_sqr(intens, angle):\n",
    "\tpopt, pcov = sp.optimize.curve_fit(_fit_sin_sqr, angle, intens, p0=[1, 0, 0])\n",
    "\tangle = np.linspace(0, 2*np.pi, 100)\n",
    "\tplt.plot(angle, _fit_sin_sqr(angle, *popt))\n",
    "\treturn popt, pcov"
   ]
  },
  {
   "cell_type": "code",
   "execution_count": 25,
   "metadata": {},
   "outputs": [
    {
     "name": "stdout",
     "output_type": "stream",
     "text": [
      "2023-12-04_LO_MG_NiPS3/d002_pol_30K_0T_647nm_0degPolDet_rotatingPolExc\n",
      "best excitation axis:\t 51.45° +-  0.73°\n"
     ]
    }
   ],
   "source": [
    "# systematic excitation and detection polarisation dependence\n",
    "sel = [\n",
    "\td for d in data if d.name.startswith(\"2023-12-04\") and \"d002\" in d.name\n",
    "]\n",
    "sel = [d.copy() for d in sel]\n",
    "sel = [subtract_background(d) for d in sel]\n",
    "sel = [d.rolling(wavelength=5).mean() for d in sel]\t\t\t\t\t\t\t\t# smooth along wavelength\n",
    "\n",
    "print(sel[0].name)\n",
    "\n",
    "def extract_PolDet(p): \n",
    "\treturn float(p.split(\"degPolDet\")[0].split(\"_\")[-1])\n",
    "\n",
    "def norm(d):\n",
    "\treturn d.max(\"wavelength\")\n",
    "\n",
    "plt.figure(figsize=FIGSIZE_WIDE)\n",
    "\n",
    "plt.subplot(1,2,1)\n",
    "img = np.array([d.max(\"wavelength\").data for d in sel])\n",
    "plt.imshow(img, extent=[0, 180, 0, 90], origin=\"lower\", \n",
    "\tinterpolation=\"bicubic\"\n",
    ")\n",
    "plt.xlabel(\"excite pol. angle\")\n",
    "plt.ylabel(\"det. pol. angle\")\n",
    "plt.colorbar()\n",
    "\n",
    "def fit(x, *p): return p[0] * np.cos(x + p[1])**2 + p[2]\n",
    "\n",
    "popt = []\n",
    "popt_unc = []\n",
    "ax = plt.subplot(1,2,2, projection=\"polar\")\n",
    "for d in sel:\n",
    "\td = d.assign_coords(angle=d.angle * np.pi/180)\n",
    "\td = d.assign_coords(angle=d.angle * 2)\n",
    "\tnorm(\n",
    "\t\td\n",
    "\t).plot.scatter(label=f\"det. {extract_PolDet(d.name)*2}°\", s=30)\n",
    "\topot, pcov = sp.optimize.curve_fit(fit, d.angle, norm(d), p0=[1, 0, 0])\n",
    "\tangle = np.linspace(0, 2*np.pi, 100)\n",
    "\tplt.plot(angle, fit(angle, *opot))\n",
    "\tpopt.append(opot)\n",
    "\tpopt_unc.append(np.sqrt(np.diag(pcov)))\n",
    "plt.legend(bbox_to_anchor=(1.1, 1))\n",
    "plt.xlabel(\"excite pol. angle\")\n",
    "plt.title(\"\")\n",
    "plt.ylabel(\"\")\n",
    "ax.set_rlabel_position(-90)\n",
    "\n",
    "plt.show()\n",
    "\n",
    "print(f\"best excitation axis:\\t{(np.abs(np.array(popt)[:,1])%(np.pi/2)).mean() * 180/np.pi: .2f}° +- {(np.abs(np.array(popt_unc)[:,1])%(np.pi/2)).mean() * 180/np.pi: .2f}°\")"
   ]
  },
  {
   "cell_type": "code",
   "execution_count": 26,
   "metadata": {},
   "outputs": [
    {
     "name": "stdout",
     "output_type": "stream",
     "text": [
      "axis:\t 51.25° +-  11.01°\n"
     ]
    }
   ],
   "source": [
    "plt.figure()\n",
    "ax = plt.subplot(1,1,1, projection=\"polar\")\n",
    "\n",
    "angle = [2*extract_PolDet(d.name) * np.pi/180 for d in sel]\n",
    "ampl =  np.abs(np.array(popt)[:,2]) + np.abs(np.array(popt)[:,0])\n",
    "\n",
    "plt.plot(\n",
    "\t[2*extract_PolDet(d.name) * np.pi/180 for d in sel],\n",
    "\tnp.abs(np.array(popt)[:,2]) + np.abs(np.array(popt)[:,0]),\n",
    "\t\"o\"\n",
    ")\n",
    "popt_det, pcov_det = fit_sin_sqr(ampl, angle)\n",
    "angles = np.linspace(0, 2*np.pi, 100)\n",
    "plt.plot(angles, _fit_sin_sqr(angles, *popt_det))\n",
    "\n",
    "print(f\"axis:\\t{(popt_det[1]%(np.pi/2)) * 180/np.pi: .2f}° +- {(np.sqrt(np.diag(pcov_det))[1]%(np.pi/2)) * 180/np.pi: .2f}°\")\n",
    "\n",
    "plt.xlabel(\"detection polarisation angle\")\n",
    "plt.show()"
   ]
  },
  {
   "cell_type": "markdown",
   "metadata": {},
   "source": [
    "## PL pol. over magnetic field"
   ]
  },
  {
   "cell_type": "code",
   "execution_count": 27,
   "metadata": {},
   "outputs": [],
   "source": [
    "sel = data[21:24]\n",
    "\n",
    "def extract_field(p):\n",
    "\treturn float(p.split(\"T\")[0].split(\"_\")[-1])\n",
    "\n",
    "def norm(d):\n",
    "\treturn d.max(\"wavelength\")\n",
    "\n",
    "sel = [subtract_background(d) for d in sel]\n",
    "\n",
    "popt, pcov = [], []\n",
    "for d in sel:\n",
    "\td = d.assign_coords(angle=d.angle * np.pi/180)\n",
    "\td = d.assign_coords(angle=d.angle * 2)\n",
    "\ti_pot, i_cov = sp.optimize.curve_fit(\n",
    "\t\t _fit_sin_sqr, d.angle, norm(d), p0=[0, 0, 0],\n",
    "\t)\n",
    "\tangle = np.linspace(0, 2*np.pi, 100)\n",
    "\tpopt.append(i_pot)\n",
    "\tpcov.append(i_cov)\n",
    "\n",
    "field = [extract_field(d.name) for d in sel]\n",
    "\n",
    "plt.figure(figsize=FIGSIZE_WIDE)\n",
    "plt.subplot(1,2,1)\n",
    "plt.errorbar(\n",
    "\tfield,\n",
    "\t# np.abs(np.array(popt)[:,1])%(np.pi/2) * 180/np.pi,\n",
    "\tnp.abs(np.array(popt)[:,1])%(np.pi/2) * 180/np.pi,\n",
    "\tyerr=np.sqrt(np.diag(np.array(pcov)[:,1]))%(np.pi/2) * 180/np.pi,\n",
    "\tmarker=\"o\",\n",
    "\tlinestyle=\"none\"\n",
    ")\n",
    "plt.xlabel(\"field [T]\")\n",
    "plt.ylabel(\"excitation axis [°]\")\n",
    "\n",
    "ax = plt.subplot(1,2,2,\n",
    "\t# projection=\"polar\"\n",
    ")\n",
    "\n",
    "axis = []\n",
    "for f, d, p in zip(field, sel, popt):\n",
    "\td = d.assign_coords(angle=d.angle * np.pi/180)\n",
    "\td = d.assign_coords(angle=d.angle * 2)\n",
    "\tnorm(\n",
    "\t\td\n",
    "\t).plot.scatter(label=f\"{f} T\", \n",
    "\t\ts=30\n",
    "\t)\n",
    "\tangle = np.linspace(0, np.pi, 100)\n",
    "\tplt.plot(angle, _fit_sin_sqr(angle, *p))\n",
    "# ax.set_rlabel_position(-90)\n",
    "plt.legend(\n",
    "\t# bbox_to_anchor=(1.1, 1)\n",
    ")\n",
    "plt.ylabel(\"\")\n",
    "\n",
    "plt.show()"
   ]
  }
 ],
 "metadata": {
  "kernelspec": {
   "display_name": ".venv",
   "language": "python",
   "name": "python3"
  },
  "language_info": {
   "codemirror_mode": {
    "name": "ipython",
    "version": 3
   },
   "file_extension": ".py",
   "mimetype": "text/x-python",
   "name": "python",
   "nbconvert_exporter": "python",
   "pygments_lexer": "ipython3",
   "version": "3.11.7"
  }
 },
 "nbformat": 4,
 "nbformat_minor": 2
}
