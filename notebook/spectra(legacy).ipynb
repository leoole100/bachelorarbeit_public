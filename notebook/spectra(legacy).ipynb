{
 "cells": [
  {
   "cell_type": "code",
   "execution_count": null,
   "metadata": {
    "notebookRunGroups": {
     "groupValue": "1"
    }
   },
   "outputs": [],
   "source": [
    "%matplotlib widget\n",
    "from lib.preamble import *"
   ]
  },
  {
   "cell_type": "code",
   "execution_count": null,
   "metadata": {},
   "outputs": [],
   "source": [
    "paths = glob(\"../data/2023-10-31/d*.asc\")\n",
    "paths += glob(\"../data/2023-10-30/d*.asc\")\n",
    "\n",
    "# import mirrors\n",
    "paths += glob(\"../data/2023-11-02/d002_mirror_2x5s.asc\")\n",
    "paths += glob(\"../data/2023-11-02/d003_mirror_2x5s-defocused.asc\")"
   ]
  },
  {
   "cell_type": "code",
   "execution_count": null,
   "metadata": {},
   "outputs": [],
   "source": [
    "df = pd.DataFrame(map(import_spectrum, paths)).set_index(\"material\").sort_index()\n",
    "df"
   ]
  },
  {
   "cell_type": "markdown",
   "metadata": {},
   "source": [
    "# Display raw spectra\n"
   ]
  },
  {
   "cell_type": "code",
   "execution_count": null,
   "metadata": {},
   "outputs": [],
   "source": [
    "sel = df\n",
    "sel = sel[sel.method==\"luminescence\"]\n",
    "# sel = sel[sel.method==\"reflectance\"]\n",
    "sel = sel[sel.index==\"NiPS3\"]\n",
    "fig, ax = plot.rows(sel, \"wavelength\", \"intensity\", \"name\")\n",
    "plot.energy_ticks(ax[0])\n",
    "plt.tight_layout()\n",
    "plt.subplots_adjust(hspace=0)\n",
    "plt.show()"
   ]
  },
  {
   "cell_type": "markdown",
   "metadata": {},
   "source": [
    "# Calculate layer thickness"
   ]
  },
  {
   "cell_type": "code",
   "execution_count": null,
   "metadata": {},
   "outputs": [],
   "source": [
    "thicknesses = np.geomspace(10, 1000, 1000)  # um\n",
    "df[\"thickness\"] = df.apply(lambda x: calc_thickness(x[\"wavelength\"], x[\"intensity\"], thicknesses*1e3), axis=1)"
   ]
  },
  {
   "cell_type": "code",
   "execution_count": null,
   "metadata": {},
   "outputs": [],
   "source": [
    "fig, ax = plot.stack(len(df), figsize=(10, 5))\n",
    "for a, (m, row) in zip(ax, df.iterrows()):\n",
    "    a.plot(thicknesses, row.thickness)\n",
    "    a.set_ylabel(m)\n",
    "    a.set_xscale(\"log\")\n",
    "plot.footnote(ax,df.name)\n",
    "fig.tight_layout()\n",
    "plt.subplots_adjust(hspace=0)\n",
    "plt.show()"
   ]
  },
  {
   "cell_type": "markdown",
   "metadata": {},
   "source": [
    "# Reflection"
   ]
  },
  {
   "cell_type": "code",
   "execution_count": null,
   "metadata": {},
   "outputs": [],
   "source": [
    "# Reflection\n",
    "sel = df.loc[df.index == \"NiPS3\"]\n",
    "sel = sel[sel.method==\"reflectance\"]\n",
    "fig, ax = plot.rows(sel, \"wavelength\", \"intensity\", \"name\")\n",
    "plot.energy_ticks(ax[0])\n",
    "for a in ax:\n",
    "    a.set_yticks([])\n",
    "plt.tight_layout()\n",
    "plt.subplots_adjust(hspace=0)\n",
    "plt.show()"
   ]
  },
  {
   "cell_type": "markdown",
   "metadata": {},
   "source": [
    "# Normalize with Mirror"
   ]
  },
  {
   "cell_type": "code",
   "execution_count": null,
   "metadata": {},
   "outputs": [],
   "source": [
    "from scipy.interpolate import interp1d\n",
    "\n",
    "df[\"intensity_interp\"] = df.apply(\n",
    "    lambda x: interp1d(x.wavelength, x.intensity, fill_value=\"extrapolate\"),\n",
    " axis=1)"
   ]
  },
  {
   "cell_type": "code",
   "execution_count": null,
   "metadata": {},
   "outputs": [],
   "source": [
    "mirror = df.loc[\"Cu\"]\n",
    "\n",
    "df[\"normalized\"] = df.apply(\n",
    "    lambda x: x.intensity / mirror.intensity_interp(x.wavelength),\n",
    " axis=1)\n",
    "\n",
    "sel = df.loc[df.index != mirror.name]\n",
    "fig, ax = plot.rows(sel, \"wavelength\", \"normalized\", \"name\", figsize=(10, 5))\n",
    "plot.energy_ticks(ax[0])\n",
    "ax[0].set_title(f\"Normalized with {mirror.name} Spectrum\")\n",
    "for a in ax:\n",
    "    a.set_yticks([])\n",
    "plt.tight_layout()\n",
    "plt.subplots_adjust(hspace=0)\n",
    "plt.show()"
   ]
  },
  {
   "cell_type": "code",
   "execution_count": null,
   "metadata": {},
   "outputs": [],
   "source": [
    "mirrors = df.loc[[\"Cu\", \"mirror\"]]\n",
    "sel = df.loc[df.index == \"NiPS3\"]\n",
    "\n",
    "fig, ax = plot.stack(len(sel))\n",
    "\n",
    "for a, (m, row) in zip(ax, sel.iterrows()):\n",
    "    for mir_i, mir in mirrors.iterrows():\n",
    "        # a.plot(row.wavelength, row.intensity / mir.intensity_interp(row.wavelength), label=mir.name)\n",
    "        a.plot(row.wavelength, row.intensity / mir.intensity_interp(row.wavelength) * np.max(mir.intensity_interp(row.wavelength)), label=mir.name)\n",
    "    a.set_ylabel(m)\n",
    "    a.legend()\n",
    "\n",
    "plot.energy_ticks(ax[0])\n",
    "ax[0].set_title(f\"Normalized\")\n",
    "for a in ax:\n",
    "    a.set_yticks([])\n",
    "plt.tight_layout()\n",
    "plt.subplots_adjust(hspace=0)\n",
    "plt.show()"
   ]
  },
  {
   "cell_type": "markdown",
   "metadata": {},
   "source": [
    "# Try Xarray"
   ]
  },
  {
   "cell_type": "code",
   "execution_count": null,
   "metadata": {},
   "outputs": [],
   "source": [
    "import xarray as xr\n",
    "import hvplot.xarray\n",
    "import holoviews as hv\n",
    "hv.extension(\"bokeh\", width=100)"
   ]
  },
  {
   "cell_type": "code",
   "execution_count": null,
   "metadata": {},
   "outputs": [],
   "source": [
    "paths = glob(\"../data/*/d*.asc\")\n",
    "paths = sorted(paths)\n",
    "data = {p:import_spectrum(p) for p in paths}\n",
    "\n",
    "dataArrays = {\n",
    "\tv[\"name\"]: xr.DataArray(\n",
    "\t\tdata=v[\"intensity\"],\n",
    "\t\tdims=[\"wavelength\"],\n",
    "\t\tcoords={\n",
    "\t\t\t\"wavelength\": v[\"wavelength\"],\n",
    "\t\t\t\"material\": v[\"material\"],\n",
    "\t\t\t\"method\": v[\"method\"],\n",
    "\t\t\t\"experiment\": v[\"experiment\"],\n",
    "\t\t},\n",
    "\t\tattrs=v,\n",
    "\t\tname=v[\"name\"]\n",
    "\t)\n",
    "\tfor _,v in data.items()\n",
    "}\n",
    "\n",
    "# ds = xr.Dataset(dataArrays)\n",
    "# combine all\n",
    "ds = xr.concat(dataArrays.values(), dim=\"name\")"
   ]
  },
  {
   "cell_type": "code",
   "execution_count": null,
   "metadata": {},
   "outputs": [],
   "source": [
    "ds"
   ]
  },
  {
   "cell_type": "code",
   "execution_count": null,
   "metadata": {},
   "outputs": [],
   "source": [
    "list(dataArrays.values())[0].hvplot(\"wavelength\")"
   ]
  },
  {
   "cell_type": "code",
   "execution_count": null,
   "metadata": {},
   "outputs": [],
   "source": [
    "ds.hvplot.line(\"wavelength\", group=[\"material\", \"method\"])"
   ]
  },
  {
   "cell_type": "code",
   "execution_count": null,
   "metadata": {},
   "outputs": [],
   "source": []
  }
 ],
 "metadata": {
  "kernelspec": {
   "display_name": ".venv",
   "language": "python",
   "name": "python3"
  },
  "language_info": {
   "codemirror_mode": {
    "name": "ipython",
    "version": 3
   },
   "file_extension": ".py",
   "mimetype": "text/x-python",
   "name": "python",
   "nbconvert_exporter": "python",
   "pygments_lexer": "ipython3",
   "version": "3.11.6"
  }
 },
 "nbformat": 4,
 "nbformat_minor": 2
}
